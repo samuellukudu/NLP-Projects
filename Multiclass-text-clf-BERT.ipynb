{
 "cells": [
  {
   "cell_type": "markdown",
   "id": "86b3244a-2c7e-40a6-a664-7dc09ff7ad35",
   "metadata": {},
   "source": [
    "## Multiclass Text classification using BERT\n",
    "\n",
    "Peforming a simple text classification task using the pretrained BERT model from Hugging Face\n",
    "\n",
    "#### Loading the data\n",
    "\n",
    "Using the *emotion* dataset from Hugging Face"
   ]
  },
  {
   "cell_type": "code",
   "execution_count": 23,
   "id": "d9f1f767-b970-4e4b-a384-878fd1f5569d",
   "metadata": {},
   "outputs": [],
   "source": [
    "import torch\n",
    "from torch.utils.data import TensorDataset, DataLoader, RandomSampler, SequentialSampler"
   ]
  },
  {
   "cell_type": "code",
   "execution_count": 1,
   "id": "744e0f0d-ee6a-41c0-ace9-5df7f449f373",
   "metadata": {},
   "outputs": [
    {
     "name": "stderr",
     "output_type": "stream",
     "text": [
      "Using custom data configuration default\n",
      "Reusing dataset emotion (/home/studio-lab-user/.cache/huggingface/datasets/emotion/default/0.0.0/348f63ca8e27b3713b6c04d723efe6d824a56fb3d1449794716c0f0296072705)\n"
     ]
    },
    {
     "data": {
      "application/vnd.jupyter.widget-view+json": {
       "model_id": "1ef70fff1b1e426eab9f16e4d459d104",
       "version_major": 2,
       "version_minor": 0
      },
      "text/plain": [
       "  0%|          | 0/3 [00:00<?, ?it/s]"
      ]
     },
     "metadata": {},
     "output_type": "display_data"
    }
   ],
   "source": [
    "from datasets import load_dataset\n",
    "emotion = load_dataset('emotion')"
   ]
  },
  {
   "cell_type": "code",
   "execution_count": 2,
   "id": "8cf820e7-2370-4a5f-88b9-49fca93c487b",
   "metadata": {},
   "outputs": [
    {
     "data": {
      "text/plain": [
       "DatasetDict({\n",
       "    train: Dataset({\n",
       "        features: ['text', 'label'],\n",
       "        num_rows: 16000\n",
       "    })\n",
       "    validation: Dataset({\n",
       "        features: ['text', 'label'],\n",
       "        num_rows: 2000\n",
       "    })\n",
       "    test: Dataset({\n",
       "        features: ['text', 'label'],\n",
       "        num_rows: 2000\n",
       "    })\n",
       "})"
      ]
     },
     "execution_count": 2,
     "metadata": {},
     "output_type": "execute_result"
    }
   ],
   "source": [
    "emotion"
   ]
  },
  {
   "cell_type": "code",
   "execution_count": 3,
   "id": "ebd32241-32ef-4c7a-ae7c-daaefbb773d8",
   "metadata": {},
   "outputs": [
    {
     "data": {
      "text/plain": [
       "['sadness', 'joy', 'love', 'anger', 'fear', 'surprise']"
      ]
     },
     "execution_count": 3,
     "metadata": {},
     "output_type": "execute_result"
    }
   ],
   "source": [
    "label_names = emotion['train'].features['label'].names\n",
    "label_names"
   ]
  },
  {
   "cell_type": "code",
   "execution_count": 4,
   "id": "47a63143-def3-41f4-b35a-d3ef542934bb",
   "metadata": {},
   "outputs": [
    {
     "data": {
      "text/html": [
       "<div>\n",
       "<style scoped>\n",
       "    .dataframe tbody tr th:only-of-type {\n",
       "        vertical-align: middle;\n",
       "    }\n",
       "\n",
       "    .dataframe tbody tr th {\n",
       "        vertical-align: top;\n",
       "    }\n",
       "\n",
       "    .dataframe thead th {\n",
       "        text-align: right;\n",
       "    }\n",
       "</style>\n",
       "<table border=\"1\" class=\"dataframe\">\n",
       "  <thead>\n",
       "    <tr style=\"text-align: right;\">\n",
       "      <th></th>\n",
       "      <th>text</th>\n",
       "      <th>label</th>\n",
       "    </tr>\n",
       "  </thead>\n",
       "  <tbody>\n",
       "    <tr>\n",
       "      <th>0</th>\n",
       "      <td>i didnt feel humiliated</td>\n",
       "      <td>0</td>\n",
       "    </tr>\n",
       "    <tr>\n",
       "      <th>1</th>\n",
       "      <td>i can go from feeling so hopeless to so damned...</td>\n",
       "      <td>0</td>\n",
       "    </tr>\n",
       "    <tr>\n",
       "      <th>2</th>\n",
       "      <td>im grabbing a minute to post i feel greedy wrong</td>\n",
       "      <td>3</td>\n",
       "    </tr>\n",
       "    <tr>\n",
       "      <th>3</th>\n",
       "      <td>i am ever feeling nostalgic about the fireplac...</td>\n",
       "      <td>2</td>\n",
       "    </tr>\n",
       "    <tr>\n",
       "      <th>4</th>\n",
       "      <td>i am feeling grouchy</td>\n",
       "      <td>3</td>\n",
       "    </tr>\n",
       "  </tbody>\n",
       "</table>\n",
       "</div>"
      ],
      "text/plain": [
       "                                                text  label\n",
       "0                            i didnt feel humiliated      0\n",
       "1  i can go from feeling so hopeless to so damned...      0\n",
       "2   im grabbing a minute to post i feel greedy wrong      3\n",
       "3  i am ever feeling nostalgic about the fireplac...      2\n",
       "4                               i am feeling grouchy      3"
      ]
     },
     "execution_count": 4,
     "metadata": {},
     "output_type": "execute_result"
    }
   ],
   "source": [
    "# Let's take a look at what the text is like\n",
    "emotion.set_format(type='pandas')\n",
    "train_df = emotion['train'][:]\n",
    "valid_df = emotion['validation'][:]\n",
    "test_df = emotion['test'][:]\n",
    "\n",
    "train_df.head()"
   ]
  },
  {
   "cell_type": "code",
   "execution_count": 5,
   "id": "f4c4a413-49d7-4b6b-9fe9-4953d99116d6",
   "metadata": {},
   "outputs": [
    {
     "data": {
      "text/plain": [
       "0    350\n",
       "1    350\n",
       "2    350\n",
       "3    350\n",
       "4    350\n",
       "5    350\n",
       "Name: label, dtype: int64"
      ]
     },
     "execution_count": 5,
     "metadata": {},
     "output_type": "execute_result"
    }
   ],
   "source": [
    "# Using just 350 samples from each class for training and 70 samples for validation and 50 for testing\n",
    "\n",
    "train_df = train_df.groupby(['label']).apply(lambda x: x.sample(350)).reset_index(drop=True)\n",
    "valid_df = valid_df.groupby(['label']).apply(lambda x: x.sample(70)).reset_index(drop=True)\n",
    "test_df = test_df.groupby(['label']).apply(lambda x: x.sample(50)).reset_index(drop=True)\n",
    "\n",
    "train_df['label'].value_counts()"
   ]
  },
  {
   "cell_type": "code",
   "execution_count": 6,
   "id": "f8999d44-de44-400c-b12c-c7aa49da1fe6",
   "metadata": {},
   "outputs": [
    {
     "data": {
      "text/plain": [
       "0    70\n",
       "1    70\n",
       "2    70\n",
       "3    70\n",
       "4    70\n",
       "5    70\n",
       "Name: label, dtype: int64"
      ]
     },
     "execution_count": 6,
     "metadata": {},
     "output_type": "execute_result"
    }
   ],
   "source": [
    "valid_df['label'].value_counts()"
   ]
  },
  {
   "cell_type": "code",
   "execution_count": 7,
   "id": "36e154e8-fe37-4a41-8ad2-fd850181440d",
   "metadata": {},
   "outputs": [
    {
     "data": {
      "text/plain": [
       "0    50\n",
       "1    50\n",
       "2    50\n",
       "3    50\n",
       "4    50\n",
       "5    50\n",
       "Name: label, dtype: int64"
      ]
     },
     "execution_count": 7,
     "metadata": {},
     "output_type": "execute_result"
    }
   ],
   "source": [
    "test_df['label'].value_counts()"
   ]
  },
  {
   "cell_type": "markdown",
   "id": "9e307827-538e-44df-af51-8a79a5d7ef9e",
   "metadata": {},
   "source": [
    "### Tokenization\n",
    "\n",
    "Tokenization is a process for splitting raw texts into tokens and encoding tokens into numeric data"
   ]
  },
  {
   "cell_type": "code",
   "execution_count": 8,
   "id": "5d695148-1b34-45b0-a426-28a8cdb4219c",
   "metadata": {},
   "outputs": [
    {
     "data": {
      "text/plain": [
       "PreTrainedTokenizer(name_or_path='bert-base-uncased', vocab_size=30522, model_max_len=512, is_fast=False, padding_side='right', truncation_side='right', special_tokens={'unk_token': '[UNK]', 'sep_token': '[SEP]', 'pad_token': '[PAD]', 'cls_token': '[CLS]', 'mask_token': '[MASK]'})"
      ]
     },
     "execution_count": 8,
     "metadata": {},
     "output_type": "execute_result"
    }
   ],
   "source": [
    "# Using BertTokenizer\n",
    "from transformers import BertTokenizer\n",
    "model_name = \"bert-base-uncased\"\n",
    "tokenizer = BertTokenizer.from_pretrained(model_name, do_lower_case=True)\n",
    "tokenizer"
   ]
  },
  {
   "cell_type": "code",
   "execution_count": 9,
   "id": "781067d8-820e-4ecf-9b91-8628cc294bfc",
   "metadata": {},
   "outputs": [],
   "source": [
    "# define a function for encoding\n",
    "def encode(docs):\n",
    "    \"\"\"\n",
    "    This function takes list of texts and returns input_ids and attention mask of texts\n",
    "    \"\"\"\n",
    "    encoded_dict = tokenizer.batch_encode_plus(docs, \n",
    "                                              add_special_tokens=True,\n",
    "                                              max_length=128,\n",
    "                                              padding=\"max_length\")\n",
    "    \n",
    "    input_ids = encoded_dict['input_ids']\n",
    "    attention_masks = encoded_dict['attention_mask']\n",
    "    return input_ids, attention_masks"
   ]
  },
  {
   "cell_type": "code",
   "execution_count": 34,
   "id": "ce1ba3b9-0aec-4a2b-8aaa-212eb38318d1",
   "metadata": {},
   "outputs": [],
   "source": [
    "# testing the encode function to get input ids and attention masks of the datasets\n",
    "train_input_ids, train_attn_masks = torch.LongTensor(encode(train_df['text'].values.tolist()))\n",
    "valid_input_ids, valid_attn_masks = torch.LongTensor(encode(valid_df['text'].values.tolist()))\n",
    "test_input_ids, test_attn_masks = torch.LongTensor(encode(test_df['text'].values.tolist()))"
   ]
  },
  {
   "cell_type": "markdown",
   "id": "67c2e135-b62c-4929-ae46-3e50904f4987",
   "metadata": {},
   "source": [
    "### Creating Datasets and DataLoaders \n",
    "\n",
    "Using **Pytorch** *Dataloader* and *Dataset* to split the data into batches\n",
    "\n",
    "Turn the labels into tensors"
   ]
  },
  {
   "cell_type": "code",
   "execution_count": 35,
   "id": "8dc7485a-0c3a-4f10-b518-2e9e8e396071",
   "metadata": {},
   "outputs": [
    {
     "data": {
      "text/plain": [
       "(torch.Size([2100]), torch.Size([420]), torch.Size([300]))"
      ]
     },
     "execution_count": 35,
     "metadata": {},
     "output_type": "execute_result"
    }
   ],
   "source": [
    "y_train = torch.LongTensor(train_df['label'].values.tolist())\n",
    "y_valid = torch.LongTensor(valid_df['label'].values.tolist())\n",
    "y_test = torch.LongTensor(test_df['label'].values.tolist())\n",
    "\n",
    "y_train.size(), y_valid.size(), y_test.size()"
   ]
  },
  {
   "cell_type": "code",
   "execution_count": 60,
   "id": "bae693e9-b1c4-4324-92ab-5fffa29a2da1",
   "metadata": {},
   "outputs": [],
   "source": [
    "BATCH_SIZE = 16\n",
    "\n",
    "train_dataset = TensorDataset(train_input_ids, train_attn_masks, y_train)\n",
    "train_sampler = RandomSampler(train_dataset)\n",
    "train_dataloader = DataLoader(train_dataset, sampler=train_sampler, batch_size=BATCH_SIZE)\n",
    "\n",
    "valid_dataset = TensorDataset(valid_input_ids, valid_attn_masks, y_valid)\n",
    "valid_sampler = RandomSampler(valid_dataset)\n",
    "valid_dataloader = DataLoader(valid_dataset, sampler=valid_sampler, batch_size=BATCH_SIZE)\n",
    "\n",
    "test_dataset = TensorDataset(test_input_ids, test_attn_masks, y_test)\n",
    "test_sampler = RandomSampler(test_dataset)\n",
    "test_dataloader = DataLoader(test_dataset, sampler=test_sampler, batch_size=BATCH_SIZE)"
   ]
  },
  {
   "cell_type": "code",
   "execution_count": 37,
   "id": "b6373116-0484-4bfd-9f24-a5bc06f7757b",
   "metadata": {},
   "outputs": [],
   "source": [
    "for batch in train_dataloader:\n",
    "    break"
   ]
  },
  {
   "cell_type": "markdown",
   "id": "351c0ffc-648b-4a10-940d-cb7c89405eed",
   "metadata": {},
   "source": [
    "## BERT FOR SEQUENCE CLASSIFICATION MODEL\n",
    "\n",
    "Initiating the *BertForSequenceClassification*, which allows easily fine-tuning the pretrained BERT mode for classification task"
   ]
  },
  {
   "cell_type": "code",
   "execution_count": 38,
   "id": "c8966dd9-0ae5-44fc-a4ef-7b0a748b1754",
   "metadata": {},
   "outputs": [
    {
     "name": "stderr",
     "output_type": "stream",
     "text": [
      "Some weights of the model checkpoint at bert-base-uncased were not used when initializing BertForSequenceClassification: ['cls.predictions.transform.dense.weight', 'cls.predictions.transform.LayerNorm.weight', 'cls.predictions.transform.LayerNorm.bias', 'cls.predictions.decoder.weight', 'cls.seq_relationship.bias', 'cls.seq_relationship.weight', 'cls.predictions.transform.dense.bias', 'cls.predictions.bias']\n",
      "- This IS expected if you are initializing BertForSequenceClassification from the checkpoint of a model trained on another task or with another architecture (e.g. initializing a BertForSequenceClassification model from a BertForPreTraining model).\n",
      "- This IS NOT expected if you are initializing BertForSequenceClassification from the checkpoint of a model that you expect to be exactly identical (initializing a BertForSequenceClassification model from a BertForSequenceClassification model).\n",
      "Some weights of BertForSequenceClassification were not initialized from the model checkpoint at bert-base-uncased and are newly initialized: ['classifier.weight', 'classifier.bias']\n",
      "You should probably TRAIN this model on a down-stream task to be able to use it for predictions and inference.\n"
     ]
    }
   ],
   "source": [
    "from transformers import BertForSequenceClassification\n",
    "N_labels = len(train_df.label.unique())\n",
    "bert_model = BertForSequenceClassification.from_pretrained(model_name,\n",
    "                                                          num_labels=N_labels,\n",
    "                                                          output_attentions=False,\n",
    "                                                          output_hidden_states=False)"
   ]
  },
  {
   "cell_type": "code",
   "execution_count": 39,
   "id": "2a4c060b-f327-4666-a05e-26da8a5cf4b7",
   "metadata": {},
   "outputs": [
    {
     "name": "stdout",
     "output_type": "stream",
     "text": [
      "cpu is available\n"
     ]
    }
   ],
   "source": [
    "device = torch.device('cuda' if torch.cuda.is_available() else 'cpu')\n",
    "print(f'{device} is available')\n",
    "\n",
    "if device == 'cuda':\n",
    "    model = model.cuda()"
   ]
  },
  {
   "cell_type": "markdown",
   "id": "f706f2e5-73c8-4d2e-bc1d-fe071b429710",
   "metadata": {},
   "source": [
    "### Fine-Tuning\n",
    "\n",
    "#### Optimizer and scheduler\n",
    "\n",
    "An *optimizer* is for tuning parameters in the model, which is set up with a learning rate\n",
    "\n",
    "Selection of the learning rate is important, it's common to use a **Scheduler** to decrease the learning rate during training"
   ]
  },
  {
   "cell_type": "code",
   "execution_count": 40,
   "id": "a4f70d34-1de7-4ef7-b06f-b195463262a8",
   "metadata": {},
   "outputs": [],
   "source": [
    "from torch.optim import AdamW\n",
    "from transformers import get_linear_schedule_with_warmup\n",
    "\n",
    "EPOCHS = 2\n",
    "LEARNING_RATE = 2e-6\n",
    "\n",
    "optimizer = AdamW(bert_model.parameters(), lr=LEARNING_RATE)\n",
    "scheduler = get_linear_schedule_with_warmup(\n",
    "    optimizer=optimizer,\n",
    "    num_warmup_steps=0,\n",
    "    num_training_steps=len(train_dataloader)*EPOCHS\n",
    ")"
   ]
  },
  {
   "cell_type": "markdown",
   "id": "e82d52dd-2813-4a71-87c6-f0d958e2c920",
   "metadata": {},
   "source": [
    "### TRAINING LOOP\n",
    "\n",
    "The training loop is where the magic of deep learning happens. The model will be fine-tuned on the emotion dataset for classification task"
   ]
  },
  {
   "cell_type": "code",
   "execution_count": 49,
   "id": "df5900f1-5b38-4bc4-8d1e-0860a91db1b7",
   "metadata": {},
   "outputs": [
    {
     "name": "stdout",
     "output_type": "stream",
     "text": [
      "Epoch 1\n"
     ]
    },
    {
     "data": {
      "application/vnd.jupyter.widget-view+json": {
       "model_id": "ab5c21b6eb3c4488aff90767c118f169",
       "version_major": 2,
       "version_minor": 0
      },
      "text/plain": [
       "Training:   0%|          | 0/132 [00:00<?, ?it/s]"
      ]
     },
     "metadata": {},
     "output_type": "display_data"
    },
    {
     "data": {
      "application/vnd.jupyter.widget-view+json": {
       "model_id": "f456771185ba4831a77cdd9539e9ccfd",
       "version_major": 2,
       "version_minor": 0
      },
      "text/plain": [
       "Validation:   0%|          | 0/27 [00:00<?, ?it/s]"
      ]
     },
     "metadata": {},
     "output_type": "display_data"
    },
    {
     "name": "stdout",
     "output_type": "stream",
     "text": [
      "132/132 train loss: 1.754217567768964\n",
      "27/27 val loss: 1.7429619718480993\n",
      "Epoch 2\n"
     ]
    },
    {
     "data": {
      "application/vnd.jupyter.widget-view+json": {
       "model_id": "73acbd420b284f9d9449da26f086a023",
       "version_major": 2,
       "version_minor": 0
      },
      "text/plain": [
       "Training:   0%|          | 0/132 [00:00<?, ?it/s]"
      ]
     },
     "metadata": {},
     "output_type": "display_data"
    },
    {
     "data": {
      "application/vnd.jupyter.widget-view+json": {
       "model_id": "dcdb962f3bf740639b488e976e456e49",
       "version_major": 2,
       "version_minor": 0
      },
      "text/plain": [
       "Validation:   0%|          | 0/27 [00:00<?, ?it/s]"
      ]
     },
     "metadata": {},
     "output_type": "display_data"
    },
    {
     "name": "stdout",
     "output_type": "stream",
     "text": [
      "132/132 train loss: 1.7507718232544986\n",
      "27/27 val loss: 1.7505277836764301\n"
     ]
    }
   ],
   "source": [
    "from torch.nn.utils import clip_grad_norm_\n",
    "from tqdm.notebook import tqdm\n",
    "import numpy as np\n",
    "import math\n",
    "\n",
    "train_loss_per_epoch = []\n",
    "val_loss_per_epoch = []\n",
    "\n",
    "for epoch_num in range(EPOCHS):\n",
    "    print(f'Epoch {epoch_num + 1}')\n",
    "    \"\"\"\n",
    "    Training\n",
    "    \"\"\"\n",
    "    bert_model.train()\n",
    "    train_loss = 0\n",
    "    for step_num, batch_data in enumerate(tqdm(train_dataloader, desc='Training')):\n",
    "        input_ids, attn_mask, labels = [data.to(device) for data in batch_data]\n",
    "        output = bert_model(input_ids=input_ids, attention_mask=attn_mask, labels=labels)\n",
    "        \n",
    "        loss = output.loss\n",
    "        train_loss += loss.item()\n",
    "        \n",
    "        bert_model.zero_grad()\n",
    "        loss.backward()\n",
    "        del loss\n",
    "        \n",
    "        clip_grad_norm_(parameters=bert_model.parameters(), max_norm=1.0)\n",
    "        optimizer.step()\n",
    "        scheduler.step()\n",
    "        \n",
    "    train_loss_per_epoch.append(train_loss / (step_num + 1))\n",
    "    \n",
    "    \"\"\"\n",
    "    Validation\n",
    "    \"\"\"\n",
    "    bert_model.eval()\n",
    "    valid_loss = 0\n",
    "    valid_pred = []\n",
    "    \n",
    "    with torch.no_grad():\n",
    "        for step_num_e, batch_data in enumerate(tqdm(valid_dataloader, desc='Validation')):\n",
    "            input_ids, attn_mask, labels = [data.to(device) for data in batch_data]\n",
    "            output = bert_model(input_ids=input_ids, attention_mask=attn_mask, labels=labels)\n",
    "            \n",
    "            loss = output.loss\n",
    "            valid_loss += loss.item()\n",
    "            \n",
    "            valid_pred.append(np.argmax(output.logits.cpu().detach().numpy(), axis=-1))\n",
    "            \n",
    "    val_loss_per_epoch.append(valid_loss / (step_num_e + 1))\n",
    "    valid_pred = np.concatenate(valid_pred)\n",
    "    \n",
    "    \"\"\"\n",
    "    Loss message\n",
    "    \"\"\"\n",
    "    print(f\"{step_num+1}/{math.ceil(len(train_df)/BATCH_SIZE)} train loss: {train_loss / (step_num + 1)}\")\n",
    "    print(f\"{step_num_e+1}/{math.ceil(len(valid_df)/BATCH_SIZE)} val loss: {valid_loss / (step_num_e + 1)}\")"
   ]
  },
  {
   "cell_type": "code",
   "execution_count": 51,
   "id": "2839db25-b11b-47a4-ad59-669972fa98f5",
   "metadata": {},
   "outputs": [
    {
     "data": {
      "image/png": "[encoded data removed]",
      "text/plain": [
       "<Figure size 432x288 with 1 Axes>"
      ]
     },
     "metadata": {
      "needs_background": "light"
     },
     "output_type": "display_data"
    }
   ],
   "source": [
    "import matplotlib.pyplot as plt\n",
    "\n",
    "epochs = range(1, EPOCHS+1)\n",
    "fig, ax = plt.subplots()\n",
    "ax.plot(epochs, train_loss_per_epoch, label='training loss')\n",
    "ax.plot(epochs, val_loss_per_epoch, label='validation loss')\n",
    "ax.set_title('Training and validation loss')\n",
    "ax.set_xlabel('Epochs')\n",
    "ax.set_ylabel('Loss')\n",
    "ax.legend()\n",
    "plt.show()"
   ]
  },
  {
   "cell_type": "markdown",
   "id": "abf1078c-9d0b-4335-b7ea-719a2c22bd13",
   "metadata": {},
   "source": [
    "### Performance metrics\n",
    "\n",
    "It's common to use precision, recall and F1-Score as the performance metrics"
   ]
  },
  {
   "cell_type": "code",
   "execution_count": 52,
   "id": "e468c3b4-0d20-43a9-be4b-ff3ea8113190",
   "metadata": {},
   "outputs": [
    {
     "name": "stdout",
     "output_type": "stream",
     "text": [
      "Classification report\n",
      "              precision    recall  f1-score   support\n",
      "\n",
      "     sadness       0.00      0.00      0.00         8\n",
      "         joy       0.07      0.14      0.09        36\n",
      "        love       0.39      0.20      0.26       135\n",
      "       anger       0.14      0.18      0.16        57\n",
      "        fear       0.24      0.13      0.17       129\n",
      "    surprise       0.14      0.18      0.16        55\n",
      "\n",
      "    accuracy                           0.16       420\n",
      "   macro avg       0.16      0.14      0.14       420\n",
      "weighted avg       0.24      0.16      0.19       420\n",
      "\n"
     ]
    }
   ],
   "source": [
    "from sklearn.metrics import classification_report\n",
    "print('Classification report')\n",
    "\n",
    "print(classification_report(valid_pred, valid_df['label'].to_numpy(), target_names=label_names))"
   ]
  },
  {
   "cell_type": "markdown",
   "id": "0e47649d-bbfa-4a02-ad50-fcefffaa60dc",
   "metadata": {},
   "source": [
    "## Error Analysis\n",
    "\n",
    "With the predictions, we can plot the confusion matrix"
   ]
  },
  {
   "cell_type": "code",
   "execution_count": 54,
   "id": "eec9dc7f-2bb3-4866-9b09-d9744a63166b",
   "metadata": {},
   "outputs": [
    {
     "data": {
      "image/png": "[encoded data removed]",
      "text/plain": [
       "<Figure size 432x432 with 1 Axes>"
      ]
     },
     "metadata": {
      "needs_background": "light"
     },
     "output_type": "display_data"
    }
   ],
   "source": [
    "from sklearn.metrics import confusion_matrix, ConfusionMatrixDisplay\n",
    "def plot_confusion_matrix(y_preds, y_true, labels=None):\n",
    "    cm = confusion_matrix(y_true, y_preds, normalize=\"true\")\n",
    "    fig, ax = plt.subplots(figsize=(6,6))\n",
    "    disp = ConfusionMatrixDisplay(confusion_matrix=cm, display_labels=labels)\n",
    "    disp.plot(cmap='Blues', values_format='.2f', ax=ax, colorbar=False)\n",
    "    plt.title('Normalized confusion matrix')\n",
    "    plt.show()\n",
    "    \n",
    "\n",
    "plot_confusion_matrix(valid_pred, valid_df['label'].to_numpy(), labels=label_names)"
   ]
  },
  {
   "cell_type": "markdown",
   "id": "91ae3a49-9be9-4116-bc28-2b0003c94d4f",
   "metadata": {},
   "source": [
    "*Sadness* has a higher likelihood to classified as *anger* or *fear*, leading to a lower f1 score"
   ]
  },
  {
   "cell_type": "markdown",
   "id": "c1d128b0-3974-4092-baea-7d647ed51747",
   "metadata": {},
   "source": [
    "## Prediction\n",
    "Now, it's time to use the trained model to predict the testing set"
   ]
  },
  {
   "cell_type": "code",
   "execution_count": 64,
   "id": "5a815967-2a7e-419c-b292-5cabeae5ca62",
   "metadata": {},
   "outputs": [
    {
     "data": {
      "application/vnd.jupyter.widget-view+json": {
       "model_id": "7d156e10be9e4c42988d3d5ce1b1b6db",
       "version_major": 2,
       "version_minor": 0
      },
      "text/plain": [
       "Testing:   0%|          | 0/19 [00:00<?, ?it/s]"
      ]
     },
     "metadata": {},
     "output_type": "display_data"
    }
   ],
   "source": [
    "bert_model.eval()\n",
    "test_pred = []\n",
    "test_loss = 0\n",
    "with torch.no_grad():\n",
    "    for step_num, batch_data in enumerate(tqdm(test_dataloader, desc='Testing')):\n",
    "        input_ids, attn_mask, labels = [data.to(device) for data in batch_data]\n",
    "        output = bert_model(input_ids=input_ids, attention_mask=attn_mask, labels=labels)\n",
    "        \n",
    "        loss = output.loss\n",
    "        test_loss += loss.item()\n",
    "        \n",
    "        test_pred.append(np.argmax(output.logits.cpu().detach().numpy(), axis=-1))\n",
    "        \n",
    "test_pred = np.concatenate(test_pred)"
   ]
  },
  {
   "cell_type": "code",
   "execution_count": 61,
   "id": "f7612cd0-4e5f-4bc2-8db2-ad10e2c5d95e",
   "metadata": {},
   "outputs": [],
   "source": [
    "for batch in test_dataloader:\n",
    "    break"
   ]
  },
  {
   "cell_type": "code",
   "execution_count": 62,
   "id": "1f3ae74d-d7cf-46b3-8f3b-8ee531753ca4",
   "metadata": {},
   "outputs": [
    {
     "data": {
      "text/plain": [
       "[tensor([[ 101, 1045, 2514,  ...,    0,    0,    0],\n",
       "         [ 101, 1045, 2064,  ...,    0,    0,    0],\n",
       "         [ 101, 1045, 2113,  ...,    0,    0,    0],\n",
       "         ...,\n",
       "         [ 101, 1045, 2514,  ...,    0,    0,    0],\n",
       "         [ 101, 1045, 3133,  ...,    0,    0,    0],\n",
       "         [ 101, 1045, 4299,  ...,    0,    0,    0]]),\n",
       " tensor([[1, 1, 1,  ..., 0, 0, 0],\n",
       "         [1, 1, 1,  ..., 0, 0, 0],\n",
       "         [1, 1, 1,  ..., 0, 0, 0],\n",
       "         ...,\n",
       "         [1, 1, 1,  ..., 0, 0, 0],\n",
       "         [1, 1, 1,  ..., 0, 0, 0],\n",
       "         [1, 1, 1,  ..., 0, 0, 0]]),\n",
       " tensor([4, 4, 4, 0, 0, 1, 0, 5, 0, 3, 1, 5, 3, 3, 0, 1])]"
      ]
     },
     "execution_count": 62,
     "metadata": {},
     "output_type": "execute_result"
    }
   ],
   "source": [
    "batch"
   ]
  },
  {
   "cell_type": "code",
   "execution_count": null,
   "id": "62b07b76-ba43-4fcc-8d24-d4b0104a25c2",
   "metadata": {},
   "outputs": [],
   "source": []
  }
 ],
 "metadata": {
  "kernelspec": {
   "display_name": "default:Python",
   "language": "python",
   "name": "conda-env-default-py"
  },
  "language_info": {
   "codemirror_mode": {
    "name": "ipython",
    "version": 3
   },
   "file_extension": ".py",
   "mimetype": "text/x-python",
   "name": "python",
   "nbconvert_exporter": "python",
   "pygments_lexer": "ipython3",
   "version": "3.9.9"
  },
  "toc-autonumbering": true
 },
 "nbformat": 4,
 "nbformat_minor": 5
}
